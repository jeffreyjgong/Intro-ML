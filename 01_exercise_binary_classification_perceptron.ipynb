{
  "nbformat": 4,
  "nbformat_minor": 0,
  "metadata": {
    "colab": {
      "provenance": [],
      "include_colab_link": true
    },
    "kernelspec": {
      "name": "python3",
      "display_name": "Python 3"
    },
    "language_info": {
      "name": "python"
    }
  },
  "cells": [
    {
      "cell_type": "markdown",
      "metadata": {
        "id": "view-in-github",
        "colab_type": "text"
      },
      "source": [
        "<a href=\"https://colab.research.google.com/github/jeffreyjgong/Intro-ML/blob/main/01_exercise_binary_classification_perceptron.ipynb\" target=\"_parent\"><img src=\"https://colab.research.google.com/assets/colab-badge.svg\" alt=\"Open In Colab\"/></a>"
      ]
    },
    {
      "cell_type": "markdown",
      "source": [
        "**Exercise 1: Training, Validation, and Testing a Perceptron**\n",
        "\n",
        "*CPSC 381/581: Machine Learning*\n",
        "\n",
        "*Yale University*\n",
        "\n",
        "*Instructor: Alex Wong*\n",
        "\n",
        "\n",
        "**Prerequisites**:\n",
        "\n",
        "1. Enable Google Colaboratory as an app on your Google Drive account\n",
        "\n",
        "2. Create a new Google Colab notebook, this will also create a \"Colab Notebooks\" directory under \"MyDrive\" i.e.\n",
        "```\n",
        "/content/drive/MyDrive/Colab Notebooks\n",
        "```\n",
        "\n",
        "3. Create the following directory structure in your Google Drive\n",
        "```\n",
        "/content/drive/MyDrive/Colab Notebooks/CPSC 381-581: Machine Learning/Exercises\n",
        "```\n",
        "\n",
        "4. Move the 01_exercise.ipynb into\n",
        "```\n",
        "/content/drive/MyDrive/Colab Notebooks/CPSC 381-581: Machine Learning/Exercises\n",
        "```\n",
        "so that its absolute path is\n",
        "```\n",
        "/content/drive/MyDrive/Colab Notebooks/CPSC 381-581: Machine Learning/Exercises/01_exercise.ipynb\n",
        "```\n",
        "\n",
        "In this exercise, we will introduce basic data handling using NumPy to create training, validation and testing splits. We will implement a training and validation loop for a Perceptron and test it on the testing split.\n",
        "\n",
        "\n",
        "**Submission**:\n",
        "\n",
        "1. Implement all TODOs in the code blocks below.\n",
        "\n",
        "2. Report your validation and testing scores.\n",
        "\n",
        "```\n",
        "Report validation and testing scores here. For example,\n",
        "\n",
        "Max training iterations: 1\n",
        "Training loss: 0.18681  Validation accuracy: 80.70%\n",
        "Max training iterations: 2\n",
        "Training loss: 0.61978  Validation accuracy: 43.86%\n",
        "Max training iterations: 3\n",
        "Training loss: 0.08791  Validation accuracy: 87.72%\n",
        "Max training iterations: 4\n",
        "Training loss: 0.08352  Validation accuracy: 91.23%\n",
        "\n",
        "Test accuracy: 87.72%\n",
        "\n",
        "```\n",
        "\n",
        "3. List any collaborators.\n",
        "\n",
        "```\n",
        "Collaborators: Doe, Jane (Please write names in <Last Name, First Name> format)\n",
        "\n",
        "Collaboration details: Discussed ... implementation details with Jane Doe.\n",
        "```"
      ],
      "metadata": {
        "id": "_0fsGaVMMpwG"
      }
    },
    {
      "cell_type": "markdown",
      "source": [
        "Import packages"
      ],
      "metadata": {
        "id": "wxeZsiCGC0J8"
      }
    },
    {
      "cell_type": "code",
      "source": [
        "!pip install scikit-learn==1.1"
      ],
      "metadata": {
        "id": "CzIMN8VNjUxV",
        "colab": {
          "base_uri": "https://localhost:8080/"
        },
        "outputId": "fab6f5ea-2c7d-47b8-ffd0-d26eb5c8a445"
      },
      "execution_count": 1,
      "outputs": [
        {
          "output_type": "stream",
          "name": "stdout",
          "text": [
            "Collecting scikit-learn==1.1\n",
            "  Downloading scikit_learn-1.1.0-cp310-cp310-manylinux_2_17_x86_64.manylinux2014_x86_64.whl (30.7 MB)\n",
            "\u001b[2K     \u001b[90m━━━━━━━━━━━━━━━━━━━━━━━━━━━━━━━━━━━━━━━━\u001b[0m \u001b[32m30.7/30.7 MB\u001b[0m \u001b[31m3.3 MB/s\u001b[0m eta \u001b[36m0:00:00\u001b[0m\n",
            "\u001b[?25hRequirement already satisfied: numpy>=1.17.3 in /usr/local/lib/python3.10/dist-packages (from scikit-learn==1.1) (1.23.5)\n",
            "Requirement already satisfied: scipy>=1.3.2 in /usr/local/lib/python3.10/dist-packages (from scikit-learn==1.1) (1.11.4)\n",
            "Requirement already satisfied: joblib>=1.0.0 in /usr/local/lib/python3.10/dist-packages (from scikit-learn==1.1) (1.3.2)\n",
            "Requirement already satisfied: threadpoolctl>=2.0.0 in /usr/local/lib/python3.10/dist-packages (from scikit-learn==1.1) (3.2.0)\n",
            "Installing collected packages: scikit-learn\n",
            "  Attempting uninstall: scikit-learn\n",
            "    Found existing installation: scikit-learn 1.2.2\n",
            "    Uninstalling scikit-learn-1.2.2:\n",
            "      Successfully uninstalled scikit-learn-1.2.2\n",
            "\u001b[31mERROR: pip's dependency resolver does not currently take into account all the packages that are installed. This behaviour is the source of the following dependency conflicts.\n",
            "bigframes 0.19.1 requires scikit-learn>=1.2.2, but you have scikit-learn 1.1.0 which is incompatible.\u001b[0m\u001b[31m\n",
            "\u001b[0mSuccessfully installed scikit-learn-1.1.0\n"
          ]
        }
      ]
    },
    {
      "cell_type": "code",
      "execution_count": 3,
      "metadata": {
        "id": "uumvcyiQ-k21"
      },
      "outputs": [],
      "source": [
        "import numpy as np\n",
        "import sklearn.datasets as skdata\n",
        "from sklearn.linear_model import Perceptron\n",
        "import warnings\n",
        "\n",
        "warnings.filterwarnings(action='ignore')"
      ]
    },
    {
      "cell_type": "markdown",
      "source": [
        "Loading data"
      ],
      "metadata": {
        "id": "5ljMielQC7Lg"
      }
    },
    {
      "cell_type": "code",
      "source": [
        "# TODO: Load breast cancer dataset\n",
        "# dictionary object keyed by data, target, target_names, feature_names, ...\n",
        "breast_cancer_data = skdata.load_breast_cancer()\n",
        "\n",
        "# TODO: Get data, target, target_names, and feature_names from the dataset\n",
        "x = breast_cancer_data['data']\n",
        "y = breast_cancer_data['target']\n",
        "target_names = breast_cancer_data['target_names']\n",
        "feature_names = breast_cancer_data['feature_names']\n",
        "\n",
        "# TODO: Show the number of samples and features in the dataset\n",
        "print('Number of samples in dataset: {}'.format(x.shape[0]))\n",
        "print('Number of features in each sample: {}'.format(x.shape[1]))\n",
        "\n",
        "# TODO: Check to make sure that there are the same number of ground truth\n",
        "assert x.shape[0] == y.shape[0], 'Number of sample and ground truth does not match!'"
      ],
      "metadata": {
        "id": "6wlWiioqDBkG",
        "colab": {
          "base_uri": "https://localhost:8080/"
        },
        "outputId": "4bef6e60-b87b-4901-fd79-7d5df8ad5110"
      },
      "execution_count": 12,
      "outputs": [
        {
          "output_type": "stream",
          "name": "stdout",
          "text": [
            "Number of samples in dataset: 569\n",
            "Number of features in each sample: 30\n"
          ]
        }
      ]
    },
    {
      "cell_type": "markdown",
      "source": [
        "Accessing the features of the dataset"
      ],
      "metadata": {
        "id": "SgFKGRDagRNz"
      }
    },
    {
      "cell_type": "code",
      "source": [
        "# TODO: Examine the dataset by showing the first two data points\n",
        "# Print each feature name and value in each line \"<name>: <value>\" followed by \"target: <name> (<value>)\"\n",
        "for sample_idx in range(0, 2):\n",
        "\n",
        "    print('sample: {}'.format(sample_idx + 1))\n",
        "\n",
        "    for feature_value, feature_name in zip(x[sample_idx], feature_names):\n",
        "        print('{} : {}'.format(feature_name, feature_value))\n",
        "\n",
        "    target_name = target_names[y[sample_idx]]\n",
        "    print('target: {} ({}) \\n'.format(target_name, y[sample_idx]))"
      ],
      "metadata": {
        "id": "d85Zv7nifE3e",
        "colab": {
          "base_uri": "https://localhost:8080/"
        },
        "outputId": "60d7819d-bf45-4021-c07b-23a9db7b5061"
      },
      "execution_count": 13,
      "outputs": [
        {
          "output_type": "stream",
          "name": "stdout",
          "text": [
            "sample: 1\n",
            "mean radius : 17.99\n",
            "mean texture : 10.38\n",
            "mean perimeter : 122.8\n",
            "mean area : 1001.0\n",
            "mean smoothness : 0.1184\n",
            "mean compactness : 0.2776\n",
            "mean concavity : 0.3001\n",
            "mean concave points : 0.1471\n",
            "mean symmetry : 0.2419\n",
            "mean fractal dimension : 0.07871\n",
            "radius error : 1.095\n",
            "texture error : 0.9053\n",
            "perimeter error : 8.589\n",
            "area error : 153.4\n",
            "smoothness error : 0.006399\n",
            "compactness error : 0.04904\n",
            "concavity error : 0.05373\n",
            "concave points error : 0.01587\n",
            "symmetry error : 0.03003\n",
            "fractal dimension error : 0.006193\n",
            "worst radius : 25.38\n",
            "worst texture : 17.33\n",
            "worst perimeter : 184.6\n",
            "worst area : 2019.0\n",
            "worst smoothness : 0.1622\n",
            "worst compactness : 0.6656\n",
            "worst concavity : 0.7119\n",
            "worst concave points : 0.2654\n",
            "worst symmetry : 0.4601\n",
            "worst fractal dimension : 0.1189\n",
            "target: malignant (0) \n",
            "\n",
            "sample: 2\n",
            "mean radius : 20.57\n",
            "mean texture : 17.77\n",
            "mean perimeter : 132.9\n",
            "mean area : 1326.0\n",
            "mean smoothness : 0.08474\n",
            "mean compactness : 0.07864\n",
            "mean concavity : 0.0869\n",
            "mean concave points : 0.07017\n",
            "mean symmetry : 0.1812\n",
            "mean fractal dimension : 0.05667\n",
            "radius error : 0.5435\n",
            "texture error : 0.7339\n",
            "perimeter error : 3.398\n",
            "area error : 74.08\n",
            "smoothness error : 0.005225\n",
            "compactness error : 0.01308\n",
            "concavity error : 0.0186\n",
            "concave points error : 0.0134\n",
            "symmetry error : 0.01389\n",
            "fractal dimension error : 0.003532\n",
            "worst radius : 24.99\n",
            "worst texture : 23.41\n",
            "worst perimeter : 158.8\n",
            "worst area : 1956.0\n",
            "worst smoothness : 0.1238\n",
            "worst compactness : 0.1866\n",
            "worst concavity : 0.2416\n",
            "worst concave points : 0.186\n",
            "worst symmetry : 0.275\n",
            "worst fractal dimension : 0.08902\n",
            "target: malignant (0) \n",
            "\n"
          ]
        }
      ]
    },
    {
      "cell_type": "markdown",
      "source": [
        "Creating the training, validation and testing splits"
      ],
      "metadata": {
        "id": "v01ndhtiEoWh"
      }
    },
    {
      "cell_type": "code",
      "source": [
        "# TODO: Shuffle the dataset based on sample indices\n",
        "shuffled_indices = np.random.permutation(x.shape[0])\n",
        "\n",
        "# TODO: Choose the first 80% as training set, next 10% as validation and the rest as testing\n",
        "train_split_size = int(0.80*x.shape[0])\n",
        "val_split_size = int(0.90*x.shape[0])\n",
        "# val_split_size is the point at which we truncate the dataset for validation\n",
        "\n",
        "train_indices = shuffled_indices[0:train_split_size]\n",
        "val_indices = shuffled_indices[train_split_size:val_split_size]\n",
        "test_indices = shuffled_indices[val_split_size:]\n",
        "\n",
        "# TODO: Select the examples from x and y to construct our training, validation, testing sets\n",
        "x_train, y_train = x[train_indices, :], y_train[train_indices]\n",
        "x_val, y_val = x[val_indices, :], y[val_indices]\n",
        "x_test, y_test = x[test_indices, :], y[test_indices]\n",
        "\n",
        "# TODO: Print the number of samples in training, validation and testing sets\n",
        "print('Number of samples in dataset: {}'.format(x.shape[0]))\n",
        "print('Number of training samples: {}'.format(x_train.shape[0]))\n",
        "print('Number of validation samples: {}'.format(x_val.shape[0]))\n",
        "print('Number of testing samples: {}'.format(x_test.shape[0]))"
      ],
      "metadata": {
        "id": "ZYV_5EGeEvKy",
        "colab": {
          "base_uri": "https://localhost:8080/",
          "height": 250
        },
        "outputId": "85f347cc-4747-4a41-99b1-1e80a3b41490"
      },
      "execution_count": 14,
      "outputs": [
        {
          "output_type": "error",
          "ename": "NameError",
          "evalue": "name 'y_train' is not defined",
          "traceback": [
            "\u001b[0;31m---------------------------------------------------------------------------\u001b[0m",
            "\u001b[0;31mNameError\u001b[0m                                 Traceback (most recent call last)",
            "\u001b[0;32m<ipython-input-14-19d587cac15a>\u001b[0m in \u001b[0;36m<cell line: 14>\u001b[0;34m()\u001b[0m\n\u001b[1;32m     12\u001b[0m \u001b[0;34m\u001b[0m\u001b[0m\n\u001b[1;32m     13\u001b[0m \u001b[0;31m# TODO: Select the examples from x and y to construct our training, validation, testing sets\u001b[0m\u001b[0;34m\u001b[0m\u001b[0;34m\u001b[0m\u001b[0m\n\u001b[0;32m---> 14\u001b[0;31m \u001b[0mx_train\u001b[0m\u001b[0;34m,\u001b[0m \u001b[0my_train\u001b[0m \u001b[0;34m=\u001b[0m \u001b[0mx\u001b[0m\u001b[0;34m[\u001b[0m\u001b[0mtrain_indices\u001b[0m\u001b[0;34m,\u001b[0m \u001b[0;34m:\u001b[0m\u001b[0;34m]\u001b[0m\u001b[0;34m,\u001b[0m \u001b[0my_train\u001b[0m\u001b[0;34m[\u001b[0m\u001b[0mtrain_indices\u001b[0m\u001b[0;34m]\u001b[0m\u001b[0;34m\u001b[0m\u001b[0;34m\u001b[0m\u001b[0m\n\u001b[0m\u001b[1;32m     15\u001b[0m \u001b[0mx_val\u001b[0m\u001b[0;34m,\u001b[0m \u001b[0my_val\u001b[0m \u001b[0;34m=\u001b[0m \u001b[0mx\u001b[0m\u001b[0;34m[\u001b[0m\u001b[0mval_indices\u001b[0m\u001b[0;34m,\u001b[0m \u001b[0;34m:\u001b[0m\u001b[0;34m]\u001b[0m\u001b[0;34m,\u001b[0m \u001b[0my\u001b[0m\u001b[0;34m[\u001b[0m\u001b[0mval_indices\u001b[0m\u001b[0;34m]\u001b[0m\u001b[0;34m\u001b[0m\u001b[0;34m\u001b[0m\u001b[0m\n\u001b[1;32m     16\u001b[0m \u001b[0mx_test\u001b[0m\u001b[0;34m,\u001b[0m \u001b[0my_test\u001b[0m \u001b[0;34m=\u001b[0m \u001b[0mx\u001b[0m\u001b[0;34m[\u001b[0m\u001b[0mtest_indices\u001b[0m\u001b[0;34m,\u001b[0m \u001b[0;34m:\u001b[0m\u001b[0;34m]\u001b[0m\u001b[0;34m,\u001b[0m \u001b[0my\u001b[0m\u001b[0;34m[\u001b[0m\u001b[0mtest_indices\u001b[0m\u001b[0;34m]\u001b[0m\u001b[0;34m\u001b[0m\u001b[0;34m\u001b[0m\u001b[0m\n",
            "\u001b[0;31mNameError\u001b[0m: name 'y_train' is not defined"
          ]
        }
      ]
    },
    {
      "cell_type": "markdown",
      "source": [
        "Implementing training and validation loop"
      ],
      "metadata": {
        "id": "Gcb2TArNKvf1"
      }
    },
    {
      "cell_type": "code",
      "source": [
        "def mean_accuracy(predictions, ground_truths):\n",
        "    '''\n",
        "    Computes the mean accuracy between predictions and ground truths\n",
        "\n",
        "    Arg(s):\n",
        "        predictions : numpy[int64]\n",
        "            predictions (y_hat)\n",
        "        ground_truths : numpy[int64]\n",
        "            groundtruth labels (y)\n",
        "    Returns:\n",
        "        float : mean accuracy score\n",
        "    '''\n",
        "\n",
        "    # TODO: Implement mean accuracy\n",
        "    mean_accuracy = 0.0\n",
        "\n",
        "    return mean_accuracy"
      ],
      "metadata": {
        "id": "7FYhX9G7unRw"
      },
      "execution_count": null,
      "outputs": []
    },
    {
      "cell_type": "code",
      "source": [
        "# Define a list to store perceptron models\n",
        "models = []\n",
        "\n",
        "# Define a list of max iterations\n",
        "max_iterations = [1, 2, 3, 4]\n",
        "\n",
        "# Define a list to store training losses and validation accuracy scores\n",
        "losses_train = []\n",
        "mean_accuracies_val = []\n",
        "\n",
        "for max_iter in max_iterations:\n",
        "\n",
        "    '''\n",
        "    Training the perceptron model\n",
        "    '''\n",
        "    # TODO: Set up our Perceptron model\n",
        "    # max_iter is the maximum iterations through the data for training the perceptron\n",
        "    # penalty and alpha relates to regularization (which we haven’t covered so ignore them)\n",
        "    model = Perceptron(penalty=None, alpha=0.0, max_iter=max_iter)\n",
        "\n",
        "    # TODO: Train our perceptron model on the training set using fit function\n",
        "    model.fit(x_train, y_train)\n",
        "\n",
        "    # TODO: Store model into list of models\n",
        "    models.append(model)\n",
        "\n",
        "    # TODO: Make predictions on the validation set using the predict function\n",
        "    y_hat_train = model.predict(x_train)\n",
        "\n",
        "    # TODO: Compute the loss on the training set\n",
        "    scores_train = np.where(y_hat_train != y_train, 1, 0)\n",
        "    loss_train = np.mean(scores_train)\n",
        "\n",
        "    # TODO: Store the loss into our set of losses\n",
        "    losses_train.append(loss_train)\n",
        "\n",
        "    '''\n",
        "    Validate our perceptron model on the validation set\n",
        "    '''\n",
        "    # TODO: Make predictions on the validation set using the predict function\n",
        "    y_hat_val = None\n",
        "\n",
        "    # TODO: Compute the accuracy on the validation set\n",
        "    accuracy_val = np.where(y_hat_val == y_val, 1, 0)\n",
        "    mean_accuracy_val = np.mean(accuracy_val)\n",
        "\n",
        "    # TODO: Store the score into\n",
        "\n",
        "\n",
        "    print('Max training iterations: {}'.format(max_iter))\n",
        "    print('Training loss: {:0.5f}  Validation accuracy: {:0.2f}%'.format(loss_train, 100 * mean_accuracy_val))\n",
        "\n",
        "# TODO: Choose the best model based on highest validation accuracy\n",
        "best_model_idx = None\n",
        "best_model = None"
      ],
      "metadata": {
        "id": "yB29ajtrK8sQ"
      },
      "execution_count": null,
      "outputs": []
    },
    {
      "cell_type": "markdown",
      "source": [
        "Testing our model"
      ],
      "metadata": {
        "id": "dSApmaTZtlp6"
      }
    },
    {
      "cell_type": "code",
      "source": [
        "# TODO: Make predictions on the testing set using our best model\n",
        "y_hat_test = None\n",
        "\n",
        "# TODO: Compute the accuracy on the testing set\n",
        "accuracy_test = None\n",
        "mean_accuracy_test = 0.0\n",
        "\n",
        "print('Test accuracy: {:0.2f}%'.format(100 * mean_accuracy_test))"
      ],
      "metadata": {
        "id": "KsdZWwJMtlFS"
      },
      "execution_count": null,
      "outputs": []
    }
  ]
}